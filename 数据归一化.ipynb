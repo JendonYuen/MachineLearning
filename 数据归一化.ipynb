{
 "cells": [
  {
   "cell_type": "code",
   "execution_count": 4,
   "metadata": {},
   "outputs": [],
   "source": [
    "import numpy as np\n",
    "import matplotlib.pyplot as plt"
   ]
  },
  {
   "cell_type": "markdown",
   "metadata": {},
   "source": [
    "## 最值归一化 Normalization"
   ]
  },
  {
   "cell_type": "code",
   "execution_count": 6,
   "metadata": {},
   "outputs": [
    {
     "data": {
      "text/plain": [
       "array([43, 67, 52, 63, 94,  1, 73,  4, 83,  6, 59, 78, 27, 28, 27, 16, 65,\n",
       "       30, 74, 36, 23, 44,  2, 38,  0,  7, 91, 98,  3, 57,  0,  2, 20, 48,\n",
       "       57,  8, 37, 80,  1, 61, 56,  1, 36, 82, 23, 87, 76,  4, 59, 84, 39,\n",
       "        1, 33, 58, 25, 24, 26, 37, 81, 80, 11, 97, 68, 16, 73, 96, 43, 78,\n",
       "       42, 65, 83, 29, 65, 70, 84, 74, 75, 75, 97, 69, 81, 64, 92, 11, 54,\n",
       "       46, 37, 89, 17, 94, 73, 23, 38, 44, 58, 42, 96, 94, 50, 81])"
      ]
     },
     "execution_count": 6,
     "metadata": {},
     "output_type": "execute_result"
    }
   ],
   "source": [
    "x = np.random.randint(0,100,size = 100)\n",
    "x"
   ]
  },
  {
   "cell_type": "code",
   "execution_count": 9,
   "metadata": {},
   "outputs": [
    {
     "data": {
      "text/plain": [
       "array([0.43877551, 0.68367347, 0.53061224, 0.64285714, 0.95918367,\n",
       "       0.01020408, 0.74489796, 0.04081633, 0.84693878, 0.06122449,\n",
       "       0.60204082, 0.79591837, 0.2755102 , 0.28571429, 0.2755102 ,\n",
       "       0.16326531, 0.66326531, 0.30612245, 0.75510204, 0.36734694,\n",
       "       0.23469388, 0.44897959, 0.02040816, 0.3877551 , 0.        ,\n",
       "       0.07142857, 0.92857143, 1.        , 0.03061224, 0.58163265,\n",
       "       0.        , 0.02040816, 0.20408163, 0.48979592, 0.58163265,\n",
       "       0.08163265, 0.37755102, 0.81632653, 0.01020408, 0.62244898,\n",
       "       0.57142857, 0.01020408, 0.36734694, 0.83673469, 0.23469388,\n",
       "       0.8877551 , 0.7755102 , 0.04081633, 0.60204082, 0.85714286,\n",
       "       0.39795918, 0.01020408, 0.33673469, 0.59183673, 0.25510204,\n",
       "       0.24489796, 0.26530612, 0.37755102, 0.82653061, 0.81632653,\n",
       "       0.1122449 , 0.98979592, 0.69387755, 0.16326531, 0.74489796,\n",
       "       0.97959184, 0.43877551, 0.79591837, 0.42857143, 0.66326531,\n",
       "       0.84693878, 0.29591837, 0.66326531, 0.71428571, 0.85714286,\n",
       "       0.75510204, 0.76530612, 0.76530612, 0.98979592, 0.70408163,\n",
       "       0.82653061, 0.65306122, 0.93877551, 0.1122449 , 0.55102041,\n",
       "       0.46938776, 0.37755102, 0.90816327, 0.17346939, 0.95918367,\n",
       "       0.74489796, 0.23469388, 0.3877551 , 0.44897959, 0.59183673,\n",
       "       0.42857143, 0.97959184, 0.95918367, 0.51020408, 0.82653061])"
      ]
     },
     "execution_count": 9,
     "metadata": {},
     "output_type": "execute_result"
    }
   ],
   "source": [
    "x2 = (x-np.min(x))/(np.max(x)-np.min(x))\n",
    "x2"
   ]
  },
  {
   "cell_type": "code",
   "execution_count": 13,
   "metadata": {},
   "outputs": [],
   "source": [
    "#均值方差归一化\n",
    "X = np.array(np.random.randint(0,100,(50,2)),dtype = float)"
   ]
  },
  {
   "cell_type": "code",
   "execution_count": 14,
   "metadata": {},
   "outputs": [
    {
     "data": {
      "text/plain": [
       "array([[44., 13.],\n",
       "       [86.,  1.],\n",
       "       [13., 77.],\n",
       "       [65., 91.],\n",
       "       [63.,  3.],\n",
       "       [68., 28.],\n",
       "       [90., 71.],\n",
       "       [11., 20.],\n",
       "       [29., 65.],\n",
       "       [38., 67.]])"
      ]
     },
     "execution_count": 14,
     "metadata": {},
     "output_type": "execute_result"
    }
   ],
   "source": [
    "X[:10,:]"
   ]
  },
  {
   "cell_type": "code",
   "execution_count": 16,
   "metadata": {},
   "outputs": [],
   "source": [
    "X[:,0] = (X[:,0] - np.min(X[:,0]))/(np.max(X[:,0]) - np.min(X[:,0]))"
   ]
  },
  {
   "cell_type": "code",
   "execution_count": 17,
   "metadata": {},
   "outputs": [],
   "source": [
    "X[:,1] = (X[:,1] - np.min(X[:,1]))/(np.max(X[:,1]) - np.min(X[:,1]))"
   ]
  },
  {
   "cell_type": "code",
   "execution_count": 18,
   "metadata": {},
   "outputs": [
    {
     "data": {
      "image/png": "[encoded data removed]",
      "text/plain": [
       "<Figure size 432x288 with 1 Axes>"
      ]
     },
     "metadata": {
      "needs_background": "light"
     },
     "output_type": "display_data"
    }
   ],
   "source": [
    "plt.scatter(X[:,0],X[:,1])\n",
    "plt.show()"
   ]
  },
  {
   "cell_type": "code",
   "execution_count": 19,
   "metadata": {},
   "outputs": [
    {
     "data": {
      "text/plain": [
       "0.4669387755102041"
      ]
     },
     "execution_count": 19,
     "metadata": {},
     "output_type": "execute_result"
    }
   ],
   "source": [
    "np.mean(X[:,0])"
   ]
  },
  {
   "cell_type": "code",
   "execution_count": 20,
   "metadata": {},
   "outputs": [
    {
     "data": {
      "text/plain": [
       "0.2922186740029944"
      ]
     },
     "execution_count": 20,
     "metadata": {},
     "output_type": "execute_result"
    }
   ],
   "source": [
    "np.std(X[:,0])"
   ]
  },
  {
   "cell_type": "code",
   "execution_count": 21,
   "metadata": {},
   "outputs": [
    {
     "data": {
      "text/plain": [
       "0.5129166666666667"
      ]
     },
     "execution_count": 21,
     "metadata": {},
     "output_type": "execute_result"
    }
   ],
   "source": [
    "np.mean(X[:,1])"
   ]
  },
  {
   "cell_type": "code",
   "execution_count": 22,
   "metadata": {},
   "outputs": [
    {
     "data": {
      "text/plain": [
       "0.1568877551020408"
      ]
     },
     "execution_count": 22,
     "metadata": {},
     "output_type": "execute_result"
    }
   ],
   "source": [
    "np.std(X[:1])"
   ]
  },
  {
   "cell_type": "markdown",
   "metadata": {},
   "source": [
    "## 均值方差归一化"
   ]
  },
  {
   "cell_type": "code",
   "execution_count": 24,
   "metadata": {},
   "outputs": [],
   "source": [
    "X2 = np.random.randint(0,100,(50,2))"
   ]
  },
  {
   "cell_type": "code",
   "execution_count": 25,
   "metadata": {},
   "outputs": [],
   "source": [
    "X2 = np.array(X2,dtype = float)"
   ]
  },
  {
   "cell_type": "code",
   "execution_count": 26,
   "metadata": {},
   "outputs": [],
   "source": [
    "X2[:,0] = (X2[:,0] - np.mean(X2[:,0]))/np.std(X2[:,0])"
   ]
  },
  {
   "cell_type": "code",
   "execution_count": 27,
   "metadata": {},
   "outputs": [],
   "source": [
    "X2[:,1] = (X2[:,1] - np.mean(X2[:,1]))/np.std(X2[:,1])"
   ]
  },
  {
   "cell_type": "code",
   "execution_count": 28,
   "metadata": {},
   "outputs": [
    {
     "data": {
      "image/png": "[encoded data removed]",
      "text/plain": [
       "<Figure size 432x288 with 1 Axes>"
      ]
     },
     "metadata": {
      "needs_background": "light"
     },
     "output_type": "display_data"
    }
   ],
   "source": [
    "plt.scatter(X[:,0],X[:,1])\n",
    "plt.show()"
   ]
  },
  {
   "cell_type": "code",
   "execution_count": 29,
   "metadata": {},
   "outputs": [
    {
     "data": {
      "text/plain": [
       "-2.6645352591003756e-17"
      ]
     },
     "execution_count": 29,
     "metadata": {},
     "output_type": "execute_result"
    }
   ],
   "source": [
    "np.mean(X2[:,0])"
   ]
  },
  {
   "cell_type": "code",
   "execution_count": 31,
   "metadata": {},
   "outputs": [
    {
     "data": {
      "text/plain": [
       "1.0"
      ]
     },
     "execution_count": 31,
     "metadata": {},
     "output_type": "execute_result"
    }
   ],
   "source": [
    "np.std(X2[:,0])"
   ]
  },
  {
   "cell_type": "code",
   "execution_count": 32,
   "metadata": {},
   "outputs": [
    {
     "data": {
      "text/plain": [
       "4.440892098500626e-18"
      ]
     },
     "execution_count": 32,
     "metadata": {},
     "output_type": "execute_result"
    }
   ],
   "source": [
    "np.mean(X2[:,1])"
   ]
  },
  {
   "cell_type": "code",
   "execution_count": 33,
   "metadata": {},
   "outputs": [
    {
     "data": {
      "text/plain": [
       "1.0"
      ]
     },
     "execution_count": 33,
     "metadata": {},
     "output_type": "execute_result"
    }
   ],
   "source": [
    "np.std(X2[:,1])"
   ]
  },
  {
   "cell_type": "code",
   "execution_count": null,
   "metadata": {},
   "outputs": [],
   "source": []
  }
 ],
 "metadata": {
  "kernelspec": {
   "display_name": "Python 3",
   "language": "python",
   "name": "python3"
  },
  "language_info": {
   "codemirror_mode": {
    "name": "ipython",
    "version": 3
   },
   "file_extension": ".py",
   "mimetype": "text/x-python",
   "name": "python",
   "nbconvert_exporter": "python",
   "pygments_lexer": "ipython3",
   "version": "3.6.2"
  }
 },
 "nbformat": 4,
 "nbformat_minor": 2
}
